{
 "cells": [
  {
   "cell_type": "markdown",
   "id": "b1694331-f048-4654-9de5-53944e4741b3",
   "metadata": {},
   "source": [
    "# Demographic Data Analyzer (FreeCode Camp - Data Analysis with Python Projects #2)"
   ]
  },
  {
   "cell_type": "markdown",
   "id": "ceb26efa-ad0d-4405-b798-5d9960a485ac",
   "metadata": {},
   "source": [
    "n this challenge you must analyze demographic data using Pandas. You are given a dataset of demographic data that was extracted from the 1994 Census database. Here is a sample of what the data looks like:\n",
    "\n",
    "You must use Pandas to answer the following questions:\n",
    "\n",
    "    - How many people of each race are represented in this dataset? This should be a Pandas series with race names as the index labels. (race column)\n",
    "    \n",
    "    - What is the average age of men?\n",
    "    \n",
    "    - What is the percentage of people who have a Bachelor's degree?\n",
    "    \n",
    "    - What percentage of people with advanced education (Bachelors, Masters, or Doctorate) make more than 50K?\n",
    "    \n",
    "    - What percentage of people without advanced education make more than 50K?\n",
    "    \n",
    "    - What is the minimum number of hours a person works per week?\n",
    "    \n",
    "    - What percentage of the people who work the minimum number of hours per week have a salary of more than 50K?\n",
    "    \n",
    "    - What country has the highest percentage of people that earn >50K and what is that percentage?\n",
    "    \n",
    "    - Identify the most popular occupation for those who earn >50K in India.\n",
    "\n",
    "Use the starter code in the file demographic_data_analyzer.py. Update the code so all variables set to None are set to the appropriate calculation or code. Round all decimals to the nearest tenth."
   ]
  },
  {
   "cell_type": "code",
   "execution_count": 1,
   "id": "a5d380b2-0cb8-4142-82ef-53aa238cd3c3",
   "metadata": {},
   "outputs": [],
   "source": [
    "# Installation de la bibliothèque pandas \n",
    "import pandas as pd\n",
    "\n",
    "# Lecture du dataset adult\n",
    "df = pd.read_csv('adult.data.csv')"
   ]
  },
  {
   "cell_type": "code",
   "execution_count": 2,
   "id": "dc561049-749c-4993-8538-f0e3fac4f309",
   "metadata": {},
   "outputs": [
    {
     "data": {
      "text/plain": [
       "Index(['age', 'workclass', 'fnlwgt', 'education', 'education-num',\n",
       "       'marital-status', 'occupation', 'relationship', 'race', 'sex',\n",
       "       'capital-gain', 'capital-loss', 'hours-per-week', 'native-country',\n",
       "       'salary'],\n",
       "      dtype='object')"
      ]
     },
     "execution_count": 2,
     "metadata": {},
     "output_type": "execute_result"
    }
   ],
   "source": [
    "# Liste des colonnes de la dataframe\n",
    "\n",
    "df.columns"
   ]
  },
  {
   "cell_type": "markdown",
   "id": "0d04a64d-ef32-4425-a930-a5c553187ad5",
   "metadata": {},
   "source": [
    "## Réponse au différente question"
   ]
  },
  {
   "cell_type": "code",
   "execution_count": 3,
   "id": "43514355-342c-4861-8bd3-45d4404903d9",
   "metadata": {},
   "outputs": [],
   "source": [
    "# How many peaple of each race are represented in this dataset ?\n",
    "\n",
    "race = df['race'].value_counts()"
   ]
  },
  {
   "cell_type": "code",
   "execution_count": 4,
   "id": "2bdacbd4-260e-4a6e-85f4-c54d089911c2",
   "metadata": {},
   "outputs": [
    {
     "data": {
      "text/plain": [
       "race\n",
       "White                 27816\n",
       "Black                  3124\n",
       "Asian-Pac-Islander     1039\n",
       "Amer-Indian-Eskimo      311\n",
       "Other                   271\n",
       "Name: count, dtype: int64"
      ]
     },
     "execution_count": 4,
     "metadata": {},
     "output_type": "execute_result"
    }
   ],
   "source": [
    "race"
   ]
  },
  {
   "cell_type": "code",
   "execution_count": 5,
   "id": "677731d8-3fa9-496f-80f3-82bbd3ef21e0",
   "metadata": {},
   "outputs": [],
   "source": [
    "# what is the average age of men ?\n",
    "\n",
    "avg_male_age = df[df['sex'] == 'Male']['age'].mean()"
   ]
  },
  {
   "cell_type": "code",
   "execution_count": 6,
   "id": "546de8b1-7413-4305-8818-78f1b734e59a",
   "metadata": {},
   "outputs": [
    {
     "name": "stdout",
     "output_type": "stream",
     "text": [
      " L'âge moyen des hommes est de 39.43 ans.\n"
     ]
    }
   ],
   "source": [
    "print(f\" L'âge moyen des hommes est de {avg_male_age:.2f} ans.\")"
   ]
  },
  {
   "cell_type": "code",
   "execution_count": 7,
   "id": "aee8bcec-643b-4c5d-8095-7a17dd6b8e75",
   "metadata": {},
   "outputs": [],
   "source": [
    "# What is the pourcentage of people who got a Bachelor degree ?\n",
    "\n",
    "bachelor = (df['education'].value_counts(normalize = True)*100)['Bachelors']"
   ]
  },
  {
   "cell_type": "code",
   "execution_count": 8,
   "id": "53f6026d-ee2b-4c5e-8917-f8fc54b74a55",
   "metadata": {},
   "outputs": [
    {
     "name": "stdout",
     "output_type": "stream",
     "text": [
      " Le pourcentage de personnes ayant un Bachelor est de 16.45%.\n"
     ]
    }
   ],
   "source": [
    "print(f\" Le pourcentage de personnes ayant un Bachelor est de {bachelor:.2f}%.\")"
   ]
  },
  {
   "cell_type": "code",
   "execution_count": 9,
   "id": "10d14c98-1973-41cf-85ec-3b5607815804",
   "metadata": {},
   "outputs": [],
   "source": [
    "# What percentage of people with advanced education (Bachelors, Masters or Doctorate) make more than 50K ?\n",
    "\n",
    "adv_education = df[df['education'].isin(['Bachelors', 'Masters', 'Doctorate'])]"
   ]
  },
  {
   "cell_type": "code",
   "execution_count": 10,
   "id": "20081126-c4a8-4ea4-810a-03b08927fc53",
   "metadata": {},
   "outputs": [],
   "source": [
    "adv_more_50k = (adv_education['salary'].value_counts(normalize = True)*100)['>50K']"
   ]
  },
  {
   "cell_type": "code",
   "execution_count": 11,
   "id": "76bb61cc-cf86-49c2-8210-94333d246173",
   "metadata": {},
   "outputs": [
    {
     "name": "stdout",
     "output_type": "stream",
     "text": [
      "Le pourcentage de personne à forte éducation et gagnant plus de 50 000 $ est de 46.54%.\n"
     ]
    }
   ],
   "source": [
    "print(f\"Le pourcentage de personne à forte éducation et gagnant plus de 50 000 $ est de {adv_more_50k:.2f}%.\")"
   ]
  },
  {
   "cell_type": "code",
   "execution_count": 12,
   "id": "f1f06879-2799-4ab5-b513-ccfb4de1df51",
   "metadata": {},
   "outputs": [
    {
     "name": "stdout",
     "output_type": "stream",
     "text": [
      "Parmi les personnes n'ayant pas fait de longues études, 17.37% gagnent plus de 50 000 $ par an\n"
     ]
    }
   ],
   "source": [
    "# What percentage of people without advanced education make more than 50k\n",
    "\n",
    "no_adv_education_salary = (df[~df['education'].isin(['Bachelors', 'Masters', 'Doctorate'])]['salary'].value_counts(normalize = True)*100)['>50K']\n",
    "\n",
    "print(f\"Parmi les personnes n'ayant pas fait de longues études, {no_adv_education_salary:.2f}% gagnent plus de 50 000 $ par an\")"
   ]
  },
  {
   "cell_type": "code",
   "execution_count": 13,
   "id": "04fd16c8-ba9a-4606-8125-1de6323c494d",
   "metadata": {},
   "outputs": [
    {
     "name": "stdout",
     "output_type": "stream",
     "text": [
      " La durée minimal de travail d'un est de 1 heure\n"
     ]
    }
   ],
   "source": [
    "# What is the minimum number a person work per week ?\n",
    "\n",
    "minimum_hours = df['hours-per-week'].min()\n",
    "\n",
    "print(f\" La durée minimal de travail d'un est de {minimum_hours} heure\")"
   ]
  },
  {
   "cell_type": "code",
   "execution_count": 14,
   "id": "cacc8753-743d-410b-8ed9-d5a698a586f0",
   "metadata": {},
   "outputs": [
    {
     "name": "stdout",
     "output_type": "stream",
     "text": [
      "Le pourcentage de personne ayant travaillé le moins d'heure par semaine et gagnant plus de 50k est de 10.0%.\n"
     ]
    }
   ],
   "source": [
    "# What percentage of the people who work the minimum number of hours per week have a salary of more than 50K?\n",
    "\n",
    "minimum_hours_salary = (df[df['hours-per-week'] == 1]['salary'].value_counts(normalize = True)*100)['>50K']\n",
    "\n",
    "print(f\"Le pourcentage de personne ayant travaillé le moins d'heure par semaine et gagnant plus de 50k est de {minimum_hours_salary}%.\")"
   ]
  },
  {
   "cell_type": "code",
   "execution_count": 15,
   "id": "f65db76c-2e80-4776-ba0c-0342a773a3ef",
   "metadata": {},
   "outputs": [
    {
     "name": "stdout",
     "output_type": "stream",
     "text": [
      "Iran a le plus haut pourcentage de personnes gagnant >50K : 41.86%\n"
     ]
    }
   ],
   "source": [
    "# What country has the highest percentage of people that earn >50K and what is that percentage?\n",
    "\n",
    "# Groupement par pays\n",
    "country_salary_pct = df.groupby('native-country')['salary'].value_counts(normalize=True).unstack()\n",
    "\n",
    "# On récupère uniquement la colonne '>50K'\n",
    "percent_50k = country_salary_pct['>50K'] * 100\n",
    "\n",
    "highest_country = percent_50k.idxmax()\n",
    "highest_percentage = percent_50k.max()\n",
    "\n",
    "print(f\"{highest_country} a le plus haut pourcentage de personnes gagnant >50K : {highest_percentage:.2f}%\")\n"
   ]
  },
  {
   "cell_type": "code",
   "execution_count": 16,
   "id": "26e51a6a-2843-4e4a-a346-e049ff58ae8a",
   "metadata": {},
   "outputs": [],
   "source": [
    "# Identify the most popular occupation for those who earn >50K in India.\n",
    "\n",
    "popular_india_occupation = df[(df['native-country'] == 'India') & (df['salary'] == '>50K')]['occupation'].mode()"
   ]
  },
  {
   "cell_type": "code",
   "execution_count": 17,
   "id": "3f0d0842-c538-43b5-8587-88f7644e2c98",
   "metadata": {},
   "outputs": [
    {
     "name": "stdout",
     "output_type": "stream",
     "text": [
      "0    Prof-specialty\n",
      "Name: occupation, dtype: object\n"
     ]
    }
   ],
   "source": [
    "print(popular_india_occupation)"
   ]
  }
 ],
 "metadata": {
  "kernelspec": {
   "display_name": "Python 3 (ipykernel)",
   "language": "python",
   "name": "python3"
  },
  "language_info": {
   "codemirror_mode": {
    "name": "ipython",
    "version": 3
   },
   "file_extension": ".py",
   "mimetype": "text/x-python",
   "name": "python",
   "nbconvert_exporter": "python",
   "pygments_lexer": "ipython3",
   "version": "3.11.3"
  }
 },
 "nbformat": 4,
 "nbformat_minor": 5
}
