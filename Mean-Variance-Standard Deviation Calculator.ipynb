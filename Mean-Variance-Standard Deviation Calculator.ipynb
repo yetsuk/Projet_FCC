{
 "cells": [
  {
   "cell_type": "markdown",
   "id": "27e43c4b-e1c9-421b-b39d-f1289feaf1bd",
   "metadata": {},
   "source": [
    "# Mean-Variance-Standard Deviation Calculator (FreeCodeCamp - Data Analysis with Python)"
   ]
  },
  {
   "cell_type": "markdown",
   "id": "3b96f509-ab67-42e3-8d04-0559c4873e39",
   "metadata": {},
   "source": [
    "Create a function named calculate() in mean_var_std.py that uses Numpy to output the mean, variance, standard deviation, max, min, and sum of the rows, columns, and elements in a 3 x 3 matrix.\n",
    "\n",
    "The input of the function should be a list containing 9 digits. The function should convert the list into a 3 x 3 Numpy array, and then return a dictionary containing the mean, variance, standard deviation, max, min, and sum along both axes and for the flattened matrix."
   ]
  },
  {
   "cell_type": "code",
   "execution_count": 1,
   "id": "aaed144b-015f-4250-8cd3-82a339e88a26",
   "metadata": {},
   "outputs": [],
   "source": [
    "# Import de la bibliothèque numpy\n",
    "\n",
    "import numpy as np"
   ]
  },
  {
   "cell_type": "code",
   "execution_count": 2,
   "id": "db90997d-f335-4425-a47a-d52c1943e850",
   "metadata": {},
   "outputs": [],
   "source": [
    "# Création de la fonction calculate()\n",
    "\n",
    "def calculate(list):\n",
    "    if len(list) != 9:\n",
    "        return 'List must contain 9 numbers !'\n",
    "\n",
    "    else:\n",
    "        a = np.array(list).reshape(3,3)\n",
    "\n",
    "        dict = {'mean': [a.mean(axis = 0).tolist(), a.mean(axis = 1).tolist(), a.mean()],\n",
    "                'variance': [a.var(axis = 0).tolist(), a.var(axis = 1).tolist(), a.var()],\n",
    "                'standard deviantion': [a.std(axis = 0).tolist(), a.std(axis = 1).tolist(), a.std()],\n",
    "                'min': [a.min(axis = 0).tolist(), a.min(axis = 1).tolist(), a.min()],\n",
    "                'max': [a.max(axis = 0).tolist(), a.max(axis = 1).tolist(), a.max()],\n",
    "                'sum': [a.sum(axis = 0).tolist(), a.sum(axis = 1).tolist(), a.sum()]}\n",
    "\n",
    "        return dict"
   ]
  },
  {
   "cell_type": "code",
   "execution_count": 3,
   "id": "431d320c-adf8-43da-9a28-d9aaa990ea6c",
   "metadata": {},
   "outputs": [],
   "source": [
    "exemple_1 = [0,1,2,3,4,5,6,7,8]\n",
    "\n",
    "exemple_2 = [0,1,2,3,4,5,6,7,8,9]\n",
    "\n",
    "exemple_3 = [22,84,57,48,12,3,78,45,43]"
   ]
  },
  {
   "cell_type": "code",
   "execution_count": 4,
   "id": "663fc45a-6263-432e-aa37-e1b22c407125",
   "metadata": {},
   "outputs": [
    {
     "data": {
      "text/plain": [
       "{'mean': [[3.0, 4.0, 5.0], [1.0, 4.0, 7.0], 4.0],\n",
       " 'variance': [[6.0, 6.0, 6.0],\n",
       "  [0.6666666666666666, 0.6666666666666666, 0.6666666666666666],\n",
       "  6.666666666666667],\n",
       " 'standard deviantion': [[2.449489742783178,\n",
       "   2.449489742783178,\n",
       "   2.449489742783178],\n",
       "  [0.816496580927726, 0.816496580927726, 0.816496580927726],\n",
       "  2.581988897471611],\n",
       " 'min': [[0, 1, 2], [0, 3, 6], 0],\n",
       " 'max': [[6, 7, 8], [2, 5, 8], 8],\n",
       " 'sum': [[9, 12, 15], [3, 12, 21], 36]}"
      ]
     },
     "execution_count": 4,
     "metadata": {},
     "output_type": "execute_result"
    }
   ],
   "source": [
    "calculate(exemple_1)"
   ]
  },
  {
   "cell_type": "code",
   "execution_count": 5,
   "id": "db26fc73-a52c-406b-b81b-58cb46a38725",
   "metadata": {},
   "outputs": [
    {
     "data": {
      "text/plain": [
       "'List must contain 9 numbers !'"
      ]
     },
     "execution_count": 5,
     "metadata": {},
     "output_type": "execute_result"
    }
   ],
   "source": [
    "calculate(exemple_2)"
   ]
  },
  {
   "cell_type": "code",
   "execution_count": 6,
   "id": "e180dd08-eaa6-4379-8a0f-9e2cdc31410a",
   "metadata": {},
   "outputs": [
    {
     "data": {
      "text/plain": [
       "{'mean': [[49.333333333333336, 47.0, 34.333333333333336],\n",
       "  [54.333333333333336, 21.0, 55.333333333333336],\n",
       "  43.55555555555556],\n",
       " 'variance': [[523.5555555555555, 866.0, 523.5555555555555],\n",
       "  [644.2222222222223, 378.0, 257.5555555555556],\n",
       "  681.1358024691358],\n",
       " 'standard deviantion': [[22.88133640230735,\n",
       "   29.427877939124322,\n",
       "   22.88133640230735],\n",
       "  [25.381533094401966, 19.44222209522358, 16.048537489614297],\n",
       "  26.098578552655617],\n",
       " 'min': [[22, 12, 3], [22, 3, 43], 3],\n",
       " 'max': [[78, 84, 57], [84, 48, 78], 84],\n",
       " 'sum': [[148, 141, 103], [163, 63, 166], 392]}"
      ]
     },
     "execution_count": 6,
     "metadata": {},
     "output_type": "execute_result"
    }
   ],
   "source": [
    "calculate(exemple_3)"
   ]
  }
 ],
 "metadata": {
  "kernelspec": {
   "display_name": "Python 3 (ipykernel)",
   "language": "python",
   "name": "python3"
  },
  "language_info": {
   "codemirror_mode": {
    "name": "ipython",
    "version": 3
   },
   "file_extension": ".py",
   "mimetype": "text/x-python",
   "name": "python",
   "nbconvert_exporter": "python",
   "pygments_lexer": "ipython3",
   "version": "3.11.3"
  }
 },
 "nbformat": 4,
 "nbformat_minor": 5
}
